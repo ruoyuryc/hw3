{
 "cells": [
  {
   "cell_type": "code",
   "execution_count": null,
   "metadata": {},
   "outputs": [],
   "source": [
    " else:\n",
    "                            class_name = 'N/A'\n",
    "                        display_str = str(class_name)\n",
    "                        print(class_name)\n",
    "                        data['label'].append(int(class_name))\n",
    "                        \n",
    "                if not skip_scores:\n",
    "                    if not display_str:\n",
    "                        display_str = '{}%'.format(scores[i])\n",
    "                    else:\n",
    "                        display_str = '{}: {}%'.format(display_str, scores[i])\n",
    "                box_to_display_str_map[box].append(display_str)\n",
    "                print(scores[i])\n",
    "                data['score'].append(float(scores[i]))"
   ]
  },
  {
   "cell_type": "code",
   "execution_count": null,
   "metadata": {},
   "outputs": [],
   "source": [
    "dicts = []\n",
    "    for i in range(1,3):\n",
    "    # load image\n",
    "        image = read_image_bgr('samples/JPEGImages/'+str(i)+'.png')\n"
   ]
  }
 ],
 "metadata": {
  "kernelspec": {
   "display_name": "Python 3",
   "language": "python",
   "name": "python3"
  },
  "language_info": {
   "codemirror_mode": {
    "name": "ipython",
    "version": 3
   },
   "file_extension": ".py",
   "mimetype": "text/x-python",
   "name": "python",
   "nbconvert_exporter": "python",
   "pygments_lexer": "ipython3",
   "version": "3.7.3"
  }
 },
 "nbformat": 4,
 "nbformat_minor": 2
}
